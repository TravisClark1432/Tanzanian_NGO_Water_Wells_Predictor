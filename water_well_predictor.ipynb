{
 "cells": [
  {
   "cell_type": "code",
   "execution_count": 83,
   "metadata": {},
   "outputs": [],
   "source": [
    "#This is the start of our new project\n",
    "import pandas as pd\n",
    "import numpy as np\n",
    "import matplotlib.pyplot as plt\n",
    "import seaborn as sns\n",
    "from sklearn.dummy import DummyClassifier\n",
    "from sklearn.model_selection import cross_val_score\n",
    "from sklearn.preprocessing import StandardScaler\n",
    "from sklearn.model_selection import train_test_split\n",
    "from sklearn.linear_model import LogisticRegression\n",
    "from sklearn.preprocessing import OneHotEncoder\n",
    "from sklearn.linear_model import LinearRegression\n",
    "from sklearn.tree import DecisionTreeClassifier\n",
    "from sklearn.preprocessing import LabelEncoder\n",
    "from sklearn.tree import plot_tree\n",
    "from sklearn.metrics import plot_confusion_matrix\n",
    "from sklearn.metrics import confusion_matrix\n",
    "from sklearn.metrics import plot_roc_curve\n",
    "from sklearn.ensemble import RandomForestClassifier\n",
    "from sklearn.metrics import accuracy_score\n",
    "from sklearn.metrics import precision_score, recall_score, f1_score\n",
    "import matplotlib.pyplot as plt"
   ]
  },
  {
   "cell_type": "code",
   "execution_count": 84,
   "metadata": {},
   "outputs": [],
   "source": [
    "df1 = pd.read_csv('data/Training_Set_Labels_Y_variable.csv')\n",
    "df2 = pd.read_csv('data/Training_Set_Values_X_variables.csv')"
   ]
  },
  {
   "cell_type": "code",
   "execution_count": 85,
   "metadata": {},
   "outputs": [
    {
     "name": "stdout",
     "output_type": "stream",
     "text": [
      "<class 'pandas.core.frame.DataFrame'>\n",
      "RangeIndex: 59400 entries, 0 to 59399\n",
      "Data columns (total 2 columns):\n",
      " #   Column        Non-Null Count  Dtype \n",
      "---  ------        --------------  ----- \n",
      " 0   id            59400 non-null  int64 \n",
      " 1   status_group  59400 non-null  object\n",
      "dtypes: int64(1), object(1)\n",
      "memory usage: 928.2+ KB\n"
     ]
    }
   ],
   "source": [
    "df1.info()"
   ]
  },
  {
   "cell_type": "code",
   "execution_count": 86,
   "metadata": {},
   "outputs": [
    {
     "name": "stdout",
     "output_type": "stream",
     "text": [
      "<class 'pandas.core.frame.DataFrame'>\n",
      "RangeIndex: 59400 entries, 0 to 59399\n",
      "Data columns (total 40 columns):\n",
      " #   Column                 Non-Null Count  Dtype  \n",
      "---  ------                 --------------  -----  \n",
      " 0   id                     59400 non-null  int64  \n",
      " 1   amount_tsh             59400 non-null  float64\n",
      " 2   date_recorded          59400 non-null  object \n",
      " 3   funder                 55765 non-null  object \n",
      " 4   gps_height             59400 non-null  int64  \n",
      " 5   installer              55745 non-null  object \n",
      " 6   longitude              59400 non-null  float64\n",
      " 7   latitude               59400 non-null  float64\n",
      " 8   wpt_name               59400 non-null  object \n",
      " 9   num_private            59400 non-null  int64  \n",
      " 10  basin                  59400 non-null  object \n",
      " 11  subvillage             59029 non-null  object \n",
      " 12  region                 59400 non-null  object \n",
      " 13  region_code            59400 non-null  int64  \n",
      " 14  district_code          59400 non-null  int64  \n",
      " 15  lga                    59400 non-null  object \n",
      " 16  ward                   59400 non-null  object \n",
      " 17  population             59400 non-null  int64  \n",
      " 18  public_meeting         56066 non-null  object \n",
      " 19  recorded_by            59400 non-null  object \n",
      " 20  scheme_management      55523 non-null  object \n",
      " 21  scheme_name            31234 non-null  object \n",
      " 22  permit                 56344 non-null  object \n",
      " 23  construction_year      59400 non-null  int64  \n",
      " 24  extraction_type        59400 non-null  object \n",
      " 25  extraction_type_group  59400 non-null  object \n",
      " 26  extraction_type_class  59400 non-null  object \n",
      " 27  management             59400 non-null  object \n",
      " 28  management_group       59400 non-null  object \n",
      " 29  payment                59400 non-null  object \n",
      " 30  payment_type           59400 non-null  object \n",
      " 31  water_quality          59400 non-null  object \n",
      " 32  quality_group          59400 non-null  object \n",
      " 33  quantity               59400 non-null  object \n",
      " 34  quantity_group         59400 non-null  object \n",
      " 35  source                 59400 non-null  object \n",
      " 36  source_type            59400 non-null  object \n",
      " 37  source_class           59400 non-null  object \n",
      " 38  waterpoint_type        59400 non-null  object \n",
      " 39  waterpoint_type_group  59400 non-null  object \n",
      "dtypes: float64(3), int64(7), object(30)\n",
      "memory usage: 18.1+ MB\n"
     ]
    }
   ],
   "source": [
    "df2.info()"
   ]
  },
  {
   "cell_type": "code",
   "execution_count": 87,
   "metadata": {},
   "outputs": [
    {
     "data": {
      "text/plain": [
       "functional                 0.543081\n",
       "non functional             0.384242\n",
       "functional needs repair    0.072677\n",
       "Name: status_group, dtype: float64"
      ]
     },
     "execution_count": 87,
     "metadata": {},
     "output_type": "execute_result"
    }
   ],
   "source": [
    "df1[\"status_group\"].value_counts(normalize = True)"
   ]
  },
  {
   "cell_type": "code",
   "execution_count": 88,
   "metadata": {},
   "outputs": [
    {
     "data": {
      "text/plain": [
       "functional      32259\n",
       "needs repair    27141\n",
       "Name: status_group, dtype: int64"
      ]
     },
     "execution_count": 88,
     "metadata": {},
     "output_type": "execute_result"
    }
   ],
   "source": [
    "df1[\"status_group\"] = df1[\"status_group\"].replace({\"non functional\": \"needs repair\", \"functional needs repair\": \"needs repair\"})\n",
    "df1[\"status_group\"].value_counts()"
   ]
  },
  {
   "cell_type": "code",
   "execution_count": 89,
   "metadata": {},
   "outputs": [
    {
     "data": {
      "text/html": [
       "<div>\n",
       "<style scoped>\n",
       "    .dataframe tbody tr th:only-of-type {\n",
       "        vertical-align: middle;\n",
       "    }\n",
       "\n",
       "    .dataframe tbody tr th {\n",
       "        vertical-align: top;\n",
       "    }\n",
       "\n",
       "    .dataframe thead th {\n",
       "        text-align: right;\n",
       "    }\n",
       "</style>\n",
       "<table border=\"1\" class=\"dataframe\">\n",
       "  <thead>\n",
       "    <tr style=\"text-align: right;\">\n",
       "      <th></th>\n",
       "      <th>id</th>\n",
       "      <th>source</th>\n",
       "      <th>region</th>\n",
       "      <th>management</th>\n",
       "      <th>construction_year</th>\n",
       "      <th>status_group</th>\n",
       "    </tr>\n",
       "  </thead>\n",
       "  <tbody>\n",
       "    <tr>\n",
       "      <th>0</th>\n",
       "      <td>69572</td>\n",
       "      <td>spring</td>\n",
       "      <td>Iringa</td>\n",
       "      <td>vwc</td>\n",
       "      <td>1999</td>\n",
       "      <td>functional</td>\n",
       "    </tr>\n",
       "    <tr>\n",
       "      <th>1</th>\n",
       "      <td>8776</td>\n",
       "      <td>rainwater harvesting</td>\n",
       "      <td>Mara</td>\n",
       "      <td>wug</td>\n",
       "      <td>2010</td>\n",
       "      <td>functional</td>\n",
       "    </tr>\n",
       "    <tr>\n",
       "      <th>2</th>\n",
       "      <td>34310</td>\n",
       "      <td>dam</td>\n",
       "      <td>Manyara</td>\n",
       "      <td>vwc</td>\n",
       "      <td>2009</td>\n",
       "      <td>functional</td>\n",
       "    </tr>\n",
       "    <tr>\n",
       "      <th>3</th>\n",
       "      <td>67743</td>\n",
       "      <td>machine dbh</td>\n",
       "      <td>Mtwara</td>\n",
       "      <td>vwc</td>\n",
       "      <td>1986</td>\n",
       "      <td>needs repair</td>\n",
       "    </tr>\n",
       "    <tr>\n",
       "      <th>4</th>\n",
       "      <td>19728</td>\n",
       "      <td>rainwater harvesting</td>\n",
       "      <td>Kagera</td>\n",
       "      <td>other</td>\n",
       "      <td>0</td>\n",
       "      <td>functional</td>\n",
       "    </tr>\n",
       "    <tr>\n",
       "      <th>...</th>\n",
       "      <td>...</td>\n",
       "      <td>...</td>\n",
       "      <td>...</td>\n",
       "      <td>...</td>\n",
       "      <td>...</td>\n",
       "      <td>...</td>\n",
       "    </tr>\n",
       "    <tr>\n",
       "      <th>59395</th>\n",
       "      <td>60739</td>\n",
       "      <td>spring</td>\n",
       "      <td>Kilimanjaro</td>\n",
       "      <td>water board</td>\n",
       "      <td>1999</td>\n",
       "      <td>functional</td>\n",
       "    </tr>\n",
       "    <tr>\n",
       "      <th>59396</th>\n",
       "      <td>27263</td>\n",
       "      <td>river</td>\n",
       "      <td>Iringa</td>\n",
       "      <td>vwc</td>\n",
       "      <td>1996</td>\n",
       "      <td>functional</td>\n",
       "    </tr>\n",
       "    <tr>\n",
       "      <th>59397</th>\n",
       "      <td>37057</td>\n",
       "      <td>machine dbh</td>\n",
       "      <td>Mbeya</td>\n",
       "      <td>vwc</td>\n",
       "      <td>0</td>\n",
       "      <td>functional</td>\n",
       "    </tr>\n",
       "    <tr>\n",
       "      <th>59398</th>\n",
       "      <td>31282</td>\n",
       "      <td>shallow well</td>\n",
       "      <td>Dodoma</td>\n",
       "      <td>vwc</td>\n",
       "      <td>0</td>\n",
       "      <td>functional</td>\n",
       "    </tr>\n",
       "    <tr>\n",
       "      <th>59399</th>\n",
       "      <td>26348</td>\n",
       "      <td>shallow well</td>\n",
       "      <td>Morogoro</td>\n",
       "      <td>vwc</td>\n",
       "      <td>2002</td>\n",
       "      <td>functional</td>\n",
       "    </tr>\n",
       "  </tbody>\n",
       "</table>\n",
       "<p>59400 rows × 6 columns</p>\n",
       "</div>"
      ],
      "text/plain": [
       "          id                source       region   management  \\\n",
       "0      69572                spring       Iringa          vwc   \n",
       "1       8776  rainwater harvesting         Mara          wug   \n",
       "2      34310                   dam      Manyara          vwc   \n",
       "3      67743           machine dbh       Mtwara          vwc   \n",
       "4      19728  rainwater harvesting       Kagera        other   \n",
       "...      ...                   ...          ...          ...   \n",
       "59395  60739                spring  Kilimanjaro  water board   \n",
       "59396  27263                 river       Iringa          vwc   \n",
       "59397  37057           machine dbh        Mbeya          vwc   \n",
       "59398  31282          shallow well       Dodoma          vwc   \n",
       "59399  26348          shallow well     Morogoro          vwc   \n",
       "\n",
       "       construction_year  status_group  \n",
       "0                   1999    functional  \n",
       "1                   2010    functional  \n",
       "2                   2009    functional  \n",
       "3                   1986  needs repair  \n",
       "4                      0    functional  \n",
       "...                  ...           ...  \n",
       "59395               1999    functional  \n",
       "59396               1996    functional  \n",
       "59397                  0    functional  \n",
       "59398                  0    functional  \n",
       "59399               2002    functional  \n",
       "\n",
       "[59400 rows x 6 columns]"
      ]
     },
     "execution_count": 89,
     "metadata": {},
     "output_type": "execute_result"
    }
   ],
   "source": [
    "merged_df = pd.merge(df2[['id','source', 'region', 'management', 'construction_year']], df1, on='id')\n",
    "\n",
    "merged_df"
   ]
  },
  {
   "cell_type": "code",
   "execution_count": 90,
   "metadata": {},
   "outputs": [
    {
     "data": {
      "text/plain": [
       "source                status_group\n",
       "dam                   functional        253\n",
       "                      needs repair      403\n",
       "hand dtw              functional        497\n",
       "                      needs repair      377\n",
       "lake                  functional        162\n",
       "                      needs repair      603\n",
       "machine dbh           functional       5422\n",
       "                      needs repair     5653\n",
       "other                 functional        126\n",
       "                      needs repair       86\n",
       "rainwater harvesting  functional       1386\n",
       "                      needs repair      909\n",
       "river                 functional       5465\n",
       "                      needs repair     4147\n",
       "shallow well          functional       8324\n",
       "                      needs repair     8500\n",
       "spring                functional      10592\n",
       "                      needs repair     6429\n",
       "unknown               functional         32\n",
       "                      needs repair       34\n",
       "Name: id, dtype: int64"
      ]
     },
     "execution_count": 90,
     "metadata": {},
     "output_type": "execute_result"
    }
   ],
   "source": [
    "merged_df.groupby(by=['source', 'status_group']).agg('count')['id']"
   ]
  },
  {
   "cell_type": "code",
   "execution_count": 91,
   "metadata": {},
   "outputs": [
    {
     "data": {
      "image/png": "[encoded data removed]",
      "text/plain": [
       "<Figure size 720x432 with 1 Axes>"
      ]
     },
     "metadata": {
      "needs_background": "light"
     },
     "output_type": "display_data"
    }
   ],
   "source": [
    "merged_df_needs_repair = merged_df[merged_df['status_group'] == 'needs repair']\n",
    "\n",
    "\n",
    "source_counts = merged_df_needs_repair['source'].value_counts()\n",
    "\n",
    "\n",
    "plt.figure(figsize=(10, 6))\n",
    "sns.barplot(x=source_counts.index, y=source_counts.values, color='skyblue')\n",
    "plt.xlabel('Source')\n",
    "plt.ylabel('Total Needs Repair Count')\n",
    "plt.title('Total Needs Repair Count by Source')\n",
    "plt.xticks(rotation=45)\n",
    "plt.show()"
   ]
  },
  {
   "cell_type": "code",
   "execution_count": 92,
   "metadata": {},
   "outputs": [
    {
     "data": {
      "image/png": "[encoded data removed]",
      "text/plain": [
       "<Figure size 720x432 with 1 Axes>"
      ]
     },
     "metadata": {
      "needs_background": "light"
     },
     "output_type": "display_data"
    }
   ],
   "source": [
    "merged_df_functional = merged_df[merged_df['status_group'] == 'functional']\n",
    "\n",
    "\n",
    "source_counts = merged_df_functional['source'].value_counts()\n",
    "\n",
    "\n",
    "plt.figure(figsize=(10, 6))\n",
    "sns.barplot(x=source_counts.index, y=source_counts.values, color='skyblue')\n",
    "plt.xlabel('Source')\n",
    "plt.ylabel('Total Functional Count')\n",
    "plt.title('Total Functional Count by Source')\n",
    "plt.xticks(rotation=45)\n",
    "plt.show()"
   ]
  },
  {
   "cell_type": "code",
   "execution_count": 93,
   "metadata": {},
   "outputs": [
    {
     "data": {
      "text/plain": [
       "region         status_group\n",
       "Arusha         functional      2294\n",
       "               needs repair    1056\n",
       "Dar es Salaam  functional       461\n",
       "               needs repair     344\n",
       "Dodoma         functional      1009\n",
       "               needs repair    1192\n",
       "Iringa         functional      4141\n",
       "               needs repair    1153\n",
       "Kagera         functional      1727\n",
       "               needs repair    1589\n",
       "Kigoma         functional      1363\n",
       "               needs repair    1453\n",
       "Kilimanjaro    functional      2640\n",
       "               needs repair    1739\n",
       "Lindi          functional       460\n",
       "               needs repair    1086\n",
       "Manyara        functional       987\n",
       "               needs repair     596\n",
       "Mara           functional       886\n",
       "               needs repair    1083\n",
       "Mbeya          functional      2319\n",
       "               needs repair    2320\n",
       "Morogoro       functional      2119\n",
       "               needs repair    1887\n",
       "Mtwara         functional       524\n",
       "               needs repair    1206\n",
       "Mwanza         functional      1502\n",
       "               needs repair    1600\n",
       "Pwani          functional      1556\n",
       "               needs repair    1079\n",
       "Rukwa          functional       707\n",
       "               needs repair    1101\n",
       "Ruvuma         functional      1480\n",
       "               needs repair    1160\n",
       "Shinyanga      functional      2789\n",
       "               needs repair    2193\n",
       "Singida        functional      1011\n",
       "               needs repair    1082\n",
       "Tabora         functional       848\n",
       "               needs repair    1111\n",
       "Tanga          functional      1436\n",
       "               needs repair    1111\n",
       "Name: id, dtype: int64"
      ]
     },
     "execution_count": 93,
     "metadata": {},
     "output_type": "execute_result"
    }
   ],
   "source": [
    "merged_df.groupby(by=['region', 'status_group']).agg('count')['id']"
   ]
  },
  {
   "cell_type": "code",
   "execution_count": 94,
   "metadata": {},
   "outputs": [
    {
     "data": {
      "image/png": "[encoded data removed]",
      "text/plain": [
       "<Figure size 720x432 with 1 Axes>"
      ]
     },
     "metadata": {
      "needs_background": "light"
     },
     "output_type": "display_data"
    }
   ],
   "source": [
    "source_counts = merged_df_needs_repair['region'].value_counts()\n",
    "\n",
    "\n",
    "plt.figure(figsize=(10, 6))\n",
    "sns.barplot(x=source_counts.index, y=source_counts.values, color='skyblue')\n",
    "plt.xlabel('Region')\n",
    "plt.ylabel('Total Needs Repair Count')\n",
    "plt.title('Total Needs Repair Count by Region')\n",
    "plt.xticks(rotation=45)\n",
    "plt.show()"
   ]
  },
  {
   "cell_type": "code",
   "execution_count": 95,
   "metadata": {},
   "outputs": [
    {
     "data": {
      "image/png": "[encoded data removed]",
      "text/plain": [
       "<Figure size 720x432 with 1 Axes>"
      ]
     },
     "metadata": {
      "needs_background": "light"
     },
     "output_type": "display_data"
    }
   ],
   "source": [
    "source_counts = merged_df_functional['region'].value_counts()\n",
    "\n",
    "\n",
    "plt.figure(figsize=(10, 6))\n",
    "sns.barplot(x=source_counts.index, y=source_counts.values, color='skyblue')\n",
    "plt.xlabel('Source')\n",
    "plt.ylabel('Total Functional Count')\n",
    "plt.title('Total Functional Count by Region')\n",
    "plt.xticks(rotation=45)\n",
    "plt.show()"
   ]
  },
  {
   "cell_type": "code",
   "execution_count": 96,
   "metadata": {},
   "outputs": [
    {
     "data": {
      "text/plain": [
       "management        status_group\n",
       "company           functional        267\n",
       "                  needs repair      418\n",
       "other             functional        505\n",
       "                  needs repair      339\n",
       "other - school    functional         23\n",
       "                  needs repair       76\n",
       "parastatal        functional       1020\n",
       "                  needs repair      748\n",
       "private operator  functional       1476\n",
       "                  needs repair      495\n",
       "trust             functional         46\n",
       "                  needs repair       32\n",
       "unknown           functional        224\n",
       "                  needs repair      337\n",
       "vwc               functional      20425\n",
       "                  needs repair    20082\n",
       "water authority   functional        446\n",
       "                  needs repair      458\n",
       "water board       functional       2170\n",
       "                  needs repair      763\n",
       "wua               functional       1751\n",
       "                  needs repair      784\n",
       "wug               functional       3906\n",
       "                  needs repair     2609\n",
       "Name: id, dtype: int64"
      ]
     },
     "execution_count": 96,
     "metadata": {},
     "output_type": "execute_result"
    }
   ],
   "source": [
    "merged_df.groupby(by=['management', 'status_group']).agg('count')['id']"
   ]
  },
  {
   "cell_type": "code",
   "execution_count": 97,
   "metadata": {},
   "outputs": [
    {
     "data": {
      "image/png": "[encoded data removed]",
      "text/plain": [
       "<Figure size 720x432 with 1 Axes>"
      ]
     },
     "metadata": {
      "needs_background": "light"
     },
     "output_type": "display_data"
    }
   ],
   "source": [
    "source_counts = merged_df_needs_repair['management'].value_counts()\n",
    "\n",
    "\n",
    "plt.figure(figsize=(10, 6))\n",
    "sns.barplot(x=source_counts.index, y=source_counts.values, color='skyblue')\n",
    "plt.xlabel('Region')\n",
    "plt.ylabel('Total Needs Repair Count')\n",
    "plt.title('Total Needs Repair Count by Management')\n",
    "plt.xticks(rotation=45)\n",
    "plt.show()"
   ]
  },
  {
   "cell_type": "code",
   "execution_count": 98,
   "metadata": {},
   "outputs": [
    {
     "data": {
      "image/png": "[encoded data removed]",
      "text/plain": [
       "<Figure size 720x432 with 1 Axes>"
      ]
     },
     "metadata": {
      "needs_background": "light"
     },
     "output_type": "display_data"
    }
   ],
   "source": [
    "source_counts = merged_df_functional['management'].value_counts()\n",
    "\n",
    "\n",
    "plt.figure(figsize=(10, 6))\n",
    "sns.barplot(x=source_counts.index, y=source_counts.values, color='skyblue')\n",
    "plt.xlabel('Source')\n",
    "plt.ylabel('Total Functional Count')\n",
    "plt.title('Total Functional Count by Management')\n",
    "plt.xticks(rotation=45)\n",
    "plt.show()"
   ]
  },
  {
   "cell_type": "code",
   "execution_count": 99,
   "metadata": {},
   "outputs": [
    {
     "data": {
      "text/plain": [
       "spring                  17021\n",
       "shallow well            16824\n",
       "machine dbh             11075\n",
       "river                    9612\n",
       "rainwater harvesting     2295\n",
       "hand dtw                  874\n",
       "lake                      765\n",
       "dam                       656\n",
       "other                     212\n",
       "unknown                    66\n",
       "Name: source, dtype: int64"
      ]
     },
     "execution_count": 99,
     "metadata": {},
     "output_type": "execute_result"
    }
   ],
   "source": [
    "merged_df[\"source\"].value_counts()\n",
    "#possible feature"
   ]
  },
  {
   "cell_type": "code",
   "execution_count": 100,
   "metadata": {},
   "outputs": [
    {
     "data": {
      "text/plain": [
       "Iringa           5294\n",
       "Shinyanga        4982\n",
       "Mbeya            4639\n",
       "Kilimanjaro      4379\n",
       "Morogoro         4006\n",
       "Arusha           3350\n",
       "Kagera           3316\n",
       "Mwanza           3102\n",
       "Kigoma           2816\n",
       "Ruvuma           2640\n",
       "Pwani            2635\n",
       "Tanga            2547\n",
       "Dodoma           2201\n",
       "Singida          2093\n",
       "Mara             1969\n",
       "Tabora           1959\n",
       "Rukwa            1808\n",
       "Mtwara           1730\n",
       "Manyara          1583\n",
       "Lindi            1546\n",
       "Dar es Salaam     805\n",
       "Name: region, dtype: int64"
      ]
     },
     "execution_count": 100,
     "metadata": {},
     "output_type": "execute_result"
    }
   ],
   "source": [
    "merged_df[\"region\"].value_counts()\n",
    "#possible feature"
   ]
  },
  {
   "cell_type": "code",
   "execution_count": 101,
   "metadata": {},
   "outputs": [
    {
     "data": {
      "text/plain": [
       "vwc                 40507\n",
       "wug                  6515\n",
       "water board          2933\n",
       "wua                  2535\n",
       "private operator     1971\n",
       "parastatal           1768\n",
       "water authority       904\n",
       "other                 844\n",
       "company               685\n",
       "unknown               561\n",
       "other - school         99\n",
       "trust                  78\n",
       "Name: management, dtype: int64"
      ]
     },
     "execution_count": 101,
     "metadata": {},
     "output_type": "execute_result"
    }
   ],
   "source": [
    "merged_df[\"management\"].value_counts()\n",
    "#Possible feature"
   ]
  },
  {
   "cell_type": "code",
   "execution_count": 102,
   "metadata": {},
   "outputs": [
    {
     "name": "stdout",
     "output_type": "stream",
     "text": [
      "<class 'pandas.core.frame.DataFrame'>\n",
      "Int64Index: 59400 entries, 0 to 59399\n",
      "Data columns (total 6 columns):\n",
      " #   Column             Non-Null Count  Dtype \n",
      "---  ------             --------------  ----- \n",
      " 0   id                 59400 non-null  int64 \n",
      " 1   source             59400 non-null  object\n",
      " 2   region             59400 non-null  object\n",
      " 3   management         59400 non-null  object\n",
      " 4   construction_year  59400 non-null  int64 \n",
      " 5   status_group       59400 non-null  object\n",
      "dtypes: int64(2), object(4)\n",
      "memory usage: 3.2+ MB\n"
     ]
    }
   ],
   "source": [
    "merged_df.info()"
   ]
  },
  {
   "cell_type": "code",
   "execution_count": 103,
   "metadata": {},
   "outputs": [
    {
     "data": {
      "text/plain": [
       "0        1999\n",
       "1        2010\n",
       "2        2009\n",
       "4           0\n",
       "5        2009\n",
       "         ... \n",
       "59395    1999\n",
       "59396    1996\n",
       "59397       0\n",
       "59398       0\n",
       "59399    2002\n",
       "Name: construction_year, Length: 32259, dtype: int64"
      ]
     },
     "execution_count": 103,
     "metadata": {},
     "output_type": "execute_result"
    }
   ],
   "source": [
    "data_df_func = merged_df.loc[(merged_df['status_group'] == 'functional'), 'construction_year']\n",
    "data_df_repair = merged_df.loc[(merged_df['status_group'] == 'needs repair'), 'construction_year']\n",
    "\n",
    "data_df_func"
   ]
  },
  {
   "cell_type": "code",
   "execution_count": 104,
   "metadata": {},
   "outputs": [
    {
     "data": {
      "text/plain": [
       "3        1986\n",
       "6           0\n",
       "7           0\n",
       "8           0\n",
       "16       1978\n",
       "         ... \n",
       "59382    2008\n",
       "59384       0\n",
       "59391    1967\n",
       "59392       0\n",
       "59394    2007\n",
       "Name: construction_year, Length: 27141, dtype: int64"
      ]
     },
     "execution_count": 104,
     "metadata": {},
     "output_type": "execute_result"
    }
   ],
   "source": [
    "data_df_repair"
   ]
  },
  {
   "cell_type": "code",
   "execution_count": 105,
   "metadata": {},
   "outputs": [
    {
     "data": {
      "text/plain": [
       "count    21704.000000\n",
       "mean      1999.938675\n",
       "std         10.931700\n",
       "min       1960.000000\n",
       "25%       1995.000000\n",
       "50%       2003.000000\n",
       "75%       2009.000000\n",
       "max       2013.000000\n",
       "Name: construction_year, dtype: float64"
      ]
     },
     "execution_count": 105,
     "metadata": {},
     "output_type": "execute_result"
    },
    {
     "data": {
      "image/png": "[encoded data removed]",
      "text/plain": [
       "<Figure size 432x288 with 1 Axes>"
      ]
     },
     "metadata": {
      "needs_background": "light"
     },
     "output_type": "display_data"
    }
   ],
   "source": [
    "data_df_func_adj = data_df_func.loc[data_df_func != 0]\n",
    "data_df_repair_adj = data_df_repair.loc[data_df_repair != 0]\n",
    "\n",
    "fig, ax = plt.subplots()\n",
    "ax.hist(data_df_func_adj, bins=30)\n",
    "plt.title('Looking at construction years for functional wells');\n",
    "\n",
    "data_df_func_adj.describe()"
   ]
  },
  {
   "cell_type": "code",
   "execution_count": 106,
   "metadata": {},
   "outputs": [
    {
     "data": {
      "text/plain": [
       "count    16987.000000\n",
       "mean      1992.823218\n",
       "std         13.161274\n",
       "min       1960.000000\n",
       "25%       1982.000000\n",
       "50%       1995.000000\n",
       "75%       2005.000000\n",
       "max       2013.000000\n",
       "Name: construction_year, dtype: float64"
      ]
     },
     "execution_count": 106,
     "metadata": {},
     "output_type": "execute_result"
    },
    {
     "data": {
      "image/png": "[encoded data removed]",
      "text/plain": [
       "<Figure size 432x288 with 1 Axes>"
      ]
     },
     "metadata": {
      "needs_background": "light"
     },
     "output_type": "display_data"
    }
   ],
   "source": [
    "fig, ax = plt.subplots()\n",
    "ax.hist(data_df_repair_adj, bins=30)\n",
    "plt.title('Looking at construction years for needs repair wells');\n",
    "\n",
    "data_df_repair_adj.describe()\n"
   ]
  },
  {
   "cell_type": "code",
   "execution_count": 108,
   "metadata": {},
   "outputs": [
    {
     "name": "stdout",
     "output_type": "stream",
     "text": [
      "['functional' 'functional' 'functional' 'functional' 'functional'\n",
      " 'functional' 'functional' 'functional' 'functional' 'functional'\n",
      " 'functional' 'functional' 'functional' 'functional' 'functional'\n",
      " 'functional' 'functional' 'functional' 'functional' 'functional'\n",
      " 'functional' 'functional' 'functional' 'functional' 'functional'\n",
      " 'functional' 'functional' 'functional' 'functional' 'functional'\n",
      " 'functional' 'functional' 'functional' 'functional' 'functional'\n",
      " 'functional' 'functional' 'functional' 'functional' 'functional'\n",
      " 'functional' 'functional' 'functional' 'functional' 'functional'\n",
      " 'functional' 'functional' 'functional' 'functional' 'functional']\n"
     ]
    }
   ],
   "source": [
    "# Create a dummy classifier using the most frequent strategy\n",
    "dummy_model = DummyClassifier(strategy=\"most_frequent\")\n",
    "dummy_model.fit(X_train, y_train)\n",
    "\n",
    "# Make predictions on the training set\n",
    "predictions = dummy_model.predict(X_train)[:50]\n",
    "print(predictions)"
   ]
  },
  {
   "cell_type": "code",
   "execution_count": 109,
   "metadata": {},
   "outputs": [
    {
     "data": {
      "text/plain": [
       "array([0.54377104, 0.54377104, 0.54388328, 0.54388328, 0.54388328])"
      ]
     },
     "execution_count": 109,
     "metadata": {},
     "output_type": "execute_result"
    }
   ],
   "source": [
    "cv_results = cross_val_score(dummy_model, X_train, y_train, cv=5)\n",
    "cv_results"
   ]
  },
  {
   "cell_type": "code",
   "execution_count": 56,
   "metadata": {},
   "outputs": [
    {
     "data": {
      "image/png": "[encoded data removed]",
      "text/plain": [
       "<Figure size 432x288 with 1 Axes>"
      ]
     },
     "metadata": {
      "needs_background": "light"
     },
     "output_type": "display_data"
    }
   ],
   "source": [
    "plot_roc_curve(dummy_model, X_train, y_train);"
   ]
  },
  {
   "cell_type": "code",
   "execution_count": 128,
   "metadata": {},
   "outputs": [
    {
     "name": "stdout",
     "output_type": "stream",
     "text": [
      "Number of samples in X: 59400\n",
      "Number of samples in y: 59400\n",
      "Model accuracy: 0.61\n"
     ]
    }
   ],
   "source": [
    "\n",
    "encoder = OneHotEncoder(drop='first', sparse=False)\n",
    "X_cat = encoder.fit_transform(merged_df[['source', 'region', 'management']])\n",
    "\n",
    "X = pd.concat([pd.DataFrame(X_cat), merged_df['construction_year']], axis=1)\n",
    "\n",
    "y = merged_df['status_group']\n",
    "\n",
    "# Verify the number of samples in X and y\n",
    "print(f\"Number of samples in X: {X.shape[0]}\")\n",
    "print(f\"Number of samples in y: {y.shape[0]}\")\n",
    "\n",
    "X_train, X_test, y_train, y_test = train_test_split(X, y, test_size=0.4, random_state=100)\n",
    "\n",
    "scaler = StandardScaler()\n",
    "X_train_scaled = scaler.fit_transform(X_train)\n",
    "X_test_scaled = scaler.transform(X_test)\n",
    "\n",
    "# Create and fit the logistic regression model\n",
    "model = LogisticRegression()\n",
    "model.fit(X_train_scaled, y_train)\n",
    "\n",
    "# Evaluate the model\n",
    "accuracy = model.score(X_test_scaled, y_test)\n",
    "print(f\"Model accuracy: {accuracy:.2f}\")"
   ]
  },
  {
   "cell_type": "markdown",
   "metadata": {},
   "source": []
  },
  {
   "cell_type": "code",
   "execution_count": null,
   "metadata": {},
   "outputs": [],
   "source": []
  },
  {
   "cell_type": "code",
   "execution_count": null,
   "metadata": {},
   "outputs": [],
   "source": []
  },
  {
   "cell_type": "code",
   "execution_count": null,
   "metadata": {},
   "outputs": [],
   "source": []
  },
  {
   "cell_type": "code",
   "execution_count": 45,
   "metadata": {},
   "outputs": [
    {
     "name": "stdout",
     "output_type": "stream",
     "text": [
      "R-squared: 0.08\n"
     ]
    }
   ],
   "source": [
    "# Create a binary target variable (0 for 'functional', 1 for 'needs repair')\n",
    "le = LabelEncoder()\n",
    "df1['target'] = le.fit_transform(df1['status_group'])\n",
    "\n",
    "# Select relevant features (X) and target variable (y)X_cat = encoder.fit_transform(df2[['source', 'region', 'management']])\n",
    "X_cat = encoder.fit_transform(df2[['source', 'region', 'management']])\n",
    "X = X_cat\n",
    "y = df1['target']\n",
    "\n",
    "# Split data into training and testing sets\n",
    "X_train, X_test, y_train, y_test = train_test_split(X, y, test_size=0.2, random_state=42)\n",
    "\n",
    "# Create and fit the multiple linear regression model\n",
    "model = LinearRegression()\n",
    "model.fit(X_train, y_train)\n",
    "\n",
    "# Evaluate the model (you can use R-squared or other metrics)\n",
    "r_squared = model.score(X_test, y_test)\n",
    "print(f\"R-squared: {r_squared:.2f}\")"
   ]
  },
  {
   "cell_type": "code",
   "execution_count": 46,
   "metadata": {},
   "outputs": [
    {
     "name": "stdout",
     "output_type": "stream",
     "text": [
      "Precision: 0.59\n",
      "Recall: 0.61\n",
      "F1 Score: 0.58\n"
     ]
    }
   ],
   "source": [
    "# Create a binary target variable (0 for 'functional', 1 for 'needs repair')\n",
    "le = LabelEncoder()\n",
    "df1['target'] = le.fit_transform(df1['status_group'])\n",
    "\n",
    "# Select relevant features (X) and target variable (y)\n",
    "X_cat = encoder.fit_transform(df2[['source', 'region', 'management']])\n",
    "X = X_cat\n",
    "y = df1['target']\n",
    "\n",
    "# Split data into training and testing sets\n",
    "X_train, X_test, y_train, y_test = train_test_split(X, y, test_size=0.2, random_state=42)\n",
    "\n",
    "# Create and fit the decision tree classifier\n",
    "model = DecisionTreeClassifier()\n",
    "model.fit(X_train, y_train)\n",
    "\n",
    "# Make predictions on the test set\n",
    "y_test_predictions = model.predict(X_test)\n",
    "\n",
    "# Compute precision, recall, and F1-score\n",
    "precision1 = precision_score(y_test, y_test_predictions, average='weighted')\n",
    "recall1 = recall_score(y_test, y_test_predictions, average='weighted')\n",
    "f1score1 = f1_score(y_test, y_test_predictions, average='weighted')\n",
    "\n",
    "print(f\"Precision: {precision1:.2f}\")\n",
    "print(f\"Recall: {recall1:.2f}\")\n",
    "print(f\"F1 Score: {f1score1:.2f}\")"
   ]
  },
  {
   "cell_type": "code",
   "execution_count": 47,
   "metadata": {},
   "outputs": [
    {
     "name": "stdout",
     "output_type": "stream",
     "text": [
      "Precision: 0.61\n",
      "Recall: 0.61\n",
      "F1 Score: 0.61\n"
     ]
    }
   ],
   "source": [
    "precision2 = precision_score(y_test, y_test_predictions, average='micro')\n",
    "recall2 = recall_score(y_test, y_test_predictions, average='micro')\n",
    "f1score2 = f1_score(y_test, y_test_predictions, average='micro')\n",
    "\n",
    "print(f\"Precision: {precision2:.2f}\")\n",
    "print(f\"Recall: {recall2:.2f}\")\n",
    "print(f\"F1 Score: {f1score2:.2f}\")"
   ]
  },
  {
   "cell_type": "code",
   "execution_count": null,
   "metadata": {},
   "outputs": [],
   "source": [
    "precision3 = precision_score(y_test, y_test_predictions, average='macro')\n",
    "recall3 = recall_score(y_test, y_test_predictions, average='macro')\n",
    "f1score3 = f1_score(y_test, y_test_predictions, average='macro')\n",
    "\n",
    "print(f\"Precision: {precision3:.2f}\")\n",
    "print(f\"Recall: {recall3:.2f}\")\n",
    "print(f\"F1 Score: {f1score3:.2f}\")"
   ]
  },
  {
   "cell_type": "code",
   "execution_count": null,
   "metadata": {},
   "outputs": [],
   "source": [
    "# Create a binary target variable (0 for 'functional', 1 for 'needs repair')\n",
    "le = LabelEncoder()\n",
    "df1['target'] = le.fit_transform(df1['status_group'])\n",
    "\n",
    "# Split data into features (X) and target (y)\n",
    "X_cat = encoder.fit_transform(df2[['source', 'region', 'management']])\n",
    "X = X_cat\n",
    "y = df1['target']\n",
    "\n",
    "# Split data into training and testing sets\n",
    "X_train, X_test, y_train, y_test = train_test_split(X, y, test_size=0.2, random_state=42)\n",
    "\n",
    "# Initialize the Random Forest Classifier\n",
    "rf_model = RandomForestClassifier(n_estimators=100, random_state=42)\n",
    "\n",
    "# Train the model\n",
    "rf_model.fit(X_train, y_train)\n",
    "\n",
    "# Make predictions on the test set\n",
    "y_pred = rf_model.predict(X_test)\n",
    "\n",
    "\n",
    "accuracy = accuracy_score(y_test, y_pred)\n",
    "precision4 = precision_score(y_test, y_pred, average='weighted')\n",
    "recall4 = recall_score(y_test, y_pred, average='weighted')\n",
    "f1score4 = f1_score(y_test, y_pred, average='weighted')\n",
    "\n",
    "print(f\"Random Forest Model Accuracy: {accuracy:.2f}\")\n",
    "print(f\"Random Forest Model Precision: {precision4:.2f}\")\n",
    "print(f\"Random Forest Model Recall: {recall4:.2f}\")\n",
    "print(f\"Random Forest Model f1 Score: {f1score4:.2f}\")"
   ]
  },
  {
   "cell_type": "code",
   "execution_count": null,
   "metadata": {},
   "outputs": [],
   "source": [
    "precision5 = precision_score(y_test, y_pred, average='micro')\n",
    "recall5 = recall_score(y_test, y_pred, average='micro')\n",
    "f1score5 = f1_score(y_test, y_pred, average= 'micro')\n",
    "\n",
    "print(f\"Random Forest Model Precision: {precision5:.2f}\")\n",
    "print(f\"Random Forest Model Recall: {recall5:.2f}\")\n",
    "print(f\"Random Forest Model f1 Score: {f1score5:.2f}\")"
   ]
  }
 ],
 "metadata": {
  "celltoolbar": "Create Assignment",
  "kernelspec": {
   "display_name": "Python 3",
   "language": "python",
   "name": "python3"
  },
  "language_info": {
   "codemirror_mode": {
    "name": "ipython",
    "version": 3
   },
   "file_extension": ".py",
   "mimetype": "text/x-python",
   "name": "python",
   "nbconvert_exporter": "python",
   "pygments_lexer": "ipython3",
   "version": "3.8.5"
  }
 },
 "nbformat": 4,
 "nbformat_minor": 4
}
